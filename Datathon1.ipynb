{
 "cells": [
  {
   "cell_type": "code",
   "execution_count": 3,
   "id": "205eb7f3-c68d-4395-a1b4-6d236074cb23",
   "metadata": {},
   "outputs": [
    {
     "name": "stdout",
     "output_type": "stream",
     "text": [
      "n\n"
     ]
    }
   ],
   "source": [
    "import pandas as pd\n",
    "import numpy as np\n",
    "pd.set_option(\"display.max_columns\", 1000) \n",
    "pd.set_option(\"display.max_rows\", 1000)\n",
    "url = 'https://github.com/sambiner/LMU-Datathon-2024/blob/main/EPA%20Contract%20Data/FY2008_068_Contracts_Full_20240213_1.csv?raw=true'\n",
    "df = pd.read_csv(url,low_memory=False)\n",
    "#df.select_dtypes(include=np.number)\n",
    "#df.select_dtypes(include=np.number).columns.tolist()\n",
    "\n",
    "print('n')\n",
    "\n"
   ]
  },
  {
   "cell_type": "code",
   "execution_count": 5,
   "id": "5264626a-aa70-4420-893e-b1f1bec5268f",
   "metadata": {},
   "outputs": [
    {
     "name": "stdout",
     "output_type": "stream",
     "text": [
      "       naics_code  current_total_value_of_award  \\\n",
      "29771    541330.0                   30739755.00   \n",
      "39821    541511.0                   19302250.88   \n",
      "87752    562910.0                   12112465.45   \n",
      "45141    541519.0                    6341482.74   \n",
      "18271    443120.0                    6159550.13   \n",
      "43746    541512.0                    3208323.00   \n",
      "54841    541620.0                    2222869.00   \n",
      "29465    541211.0                    1660420.00   \n",
      "12756    337214.0                    1648790.50   \n",
      "29650    541219.0                    1377422.84   \n",
      "\n",
      "                                  naics_description  \n",
      "29771                          ENGINEERING SERVICES  \n",
      "39821          CUSTOM COMPUTER PROGRAMMING SERVICES  \n",
      "87752                          REMEDIATION SERVICES  \n",
      "45141               OTHER COMPUTER RELATED SERVICES  \n",
      "18271                  COMPUTER AND SOFTWARE STORES  \n",
      "43746              COMPUTER SYSTEMS DESIGN SERVICES  \n",
      "54841             ENVIRONMENTAL CONSULTING SERVICES  \n",
      "29465       OFFICES OF CERTIFIED PUBLIC ACCOUNTANTS  \n",
      "12756  OFFICE FURNITURE (EXCEPT WOOD) MANUFACTURING  \n",
      "29650                     OTHER ACCOUNTING SERVICES  \n"
     ]
    }
   ],
   "source": [
    "top_naics_codes = df.groupby('naics_code')['current_total_value_of_award'].nlargest(5)\n",
    "result_df = pd.merge(top_naics_codes, df[['naics_code', 'naics_description']], on='naics_code', how='left')\n",
    "result_df = result_df.drop_duplicates(subset='naics_code').sort_values(by=['current_total_value_of_award'], ascending= False)\n",
    "result_df = result_df.head(10)\n",
    "print(result_df)\n"
   ]
  },
  {
   "cell_type": "code",
   "execution_count": 10,
   "id": "c771db78-533d-4dda-8578-5c9daf4aff76",
   "metadata": {},
   "outputs": [
    {
     "ename": "NameError",
     "evalue": "name 'plt' is not defined",
     "output_type": "error",
     "traceback": [
      "\u001b[1;31m---------------------------------------------------------------------------\u001b[0m",
      "\u001b[1;31mNameError\u001b[0m                                 Traceback (most recent call last)",
      "Cell \u001b[1;32mIn[10], line 7\u001b[0m\n\u001b[0;32m      1\u001b[0m \u001b[38;5;66;03m# import matplotlib.pyplot as plt\u001b[39;00m\n\u001b[0;32m      2\u001b[0m \n\u001b[0;32m      3\u001b[0m \u001b[38;5;66;03m# Assuming 'result_df' contains the result obtained from the previous step\u001b[39;00m\n\u001b[0;32m      4\u001b[0m \u001b[38;5;66;03m# If not, replace it with the appropriate DataFrame containing 'naics_code', 'current_total_value_of_award', and 'naics_description'\u001b[39;00m\n\u001b[0;32m      5\u001b[0m \n\u001b[0;32m      6\u001b[0m \u001b[38;5;66;03m# Set up the figure and axis\u001b[39;00m\n\u001b[1;32m----> 7\u001b[0m fig, ax \u001b[38;5;241m=\u001b[39m \u001b[43mplt\u001b[49m\u001b[38;5;241m.\u001b[39msubplots(figsize\u001b[38;5;241m=\u001b[39m(\u001b[38;5;241m12\u001b[39m, \u001b[38;5;241m8\u001b[39m))\n\u001b[0;32m      9\u001b[0m \u001b[38;5;66;03m# Create a bar plot\u001b[39;00m\n\u001b[0;32m     10\u001b[0m result_df\u001b[38;5;241m.\u001b[39mplot(kind\u001b[38;5;241m=\u001b[39m\u001b[38;5;124m'\u001b[39m\u001b[38;5;124mbar\u001b[39m\u001b[38;5;124m'\u001b[39m, x\u001b[38;5;241m=\u001b[39m\u001b[38;5;124m'\u001b[39m\u001b[38;5;124mnaics_description\u001b[39m\u001b[38;5;124m'\u001b[39m, y\u001b[38;5;241m=\u001b[39m\u001b[38;5;124m'\u001b[39m\u001b[38;5;124mcurrent_total_value_of_award\u001b[39m\u001b[38;5;124m'\u001b[39m, ax\u001b[38;5;241m=\u001b[39max, color\u001b[38;5;241m=\u001b[39m\u001b[38;5;124m'\u001b[39m\u001b[38;5;124mskyblue\u001b[39m\u001b[38;5;124m'\u001b[39m, edgecolor\u001b[38;5;241m=\u001b[39m\u001b[38;5;124m'\u001b[39m\u001b[38;5;124mblack\u001b[39m\u001b[38;5;124m'\u001b[39m)\n",
      "\u001b[1;31mNameError\u001b[0m: name 'plt' is not defined"
     ]
    }
   ],
   "source": [
    "import matplotlib.pyplot as plt\n",
    "\n",
    "# Assuming 'result_df' contains the result obtained from the previous step\n",
    "# If not, replace it with the appropriate DataFrame containing 'naics_code', 'current_total_value_of_award', and 'naics_description'\n",
    "\n",
    "# Set up the figure and axis\n",
    "fig, ax = plt.subplots(figsize=(12, 8))\n",
    "\n",
    "# Create a bar plot\n",
    "result_df.plot(kind='bar', x='naics_description', y='current_total_value_of_award', ax=ax, color='skyblue', edgecolor='black')\n",
    "\n",
    "\n",
    "# Set labels and title\n",
    "ax.set_xlabel('NAICS Description')\n",
    "ax.set_ylabel('Total Value of Awards')\n",
    "ax.set_title('Top Industries with the Most Awards')\n",
    "\n",
    "# Rotate x-axis labels for better readability\n",
    "plt.xticks(rotation=45, ha='right')\n",
    "\n",
    "# Show the plot\n",
    "plt.show()"
   ]
  },
  {
   "cell_type": "code",
   "execution_count": 4,
   "id": "4db929d4-faea-4b8d-8c94-aa8bbbd735a4",
   "metadata": {},
   "outputs": [
    {
     "ename": "SyntaxError",
     "evalue": "unterminated string literal (detected at line 20) (1679402844.py, line 20)",
     "output_type": "error",
     "traceback": [
      "\u001b[1;36m  Cell \u001b[1;32mIn[4], line 20\u001b[1;36m\u001b[0m\n\u001b[1;33m    df['minority_owned_buie\u001b[0m\n\u001b[1;37m       ^\u001b[0m\n\u001b[1;31mSyntaxError\u001b[0m\u001b[1;31m:\u001b[0m unterminated string literal (detected at line 20)\n"
     ]
    }
   ],
   "source": [
    "#Task: Find what industries woman owned buisness are in\n",
    "import pandas as pd\n",
    "import numpy as np\n",
    "pd.set_option(\"display.max_columns\", 1000) \n",
    "pd.set_option(\"display.max_rows\", 1000)\n",
    "df = pd.read_csv(\"/Users/shyamgumdala/Downloads/FY2024_068_Contracts_Full_20240214_1.csv\",low_memory=False)\n",
    "\n",
    "#1 What buisnesses are woman owned\n",
    "\n",
    "\n",
    "# Count occurrences of each value in 'minority_owned_business'\n",
    "minority_counts = df['minority_owned_business'].value_counts()\n",
    "\n",
    "# Create a DataFrame with counts and reset the index\n",
    "result_minority = pd.DataFrame({'count': minority_counts}).reset_index()\n",
    "\n",
    "# Rename the columns for clarity\n",
    "\n",
    "result_minority.columns = ['minority_owned_business', 'count']\n",
    "# \n",
    "\n",
    "# Display the result\n",
    "print(result_minority_true.head(10))\n",
    "\n",
    "#top_naics_codes = df.groupby('naics_code')['current_total_value_of_award'].nlargest(5)\n",
    "#result_df = pd.merge(top_naics_codes, df[['naics_code', 'naics_description']], on='naics_code', how='left')\n",
    "#result_df = result_df.drop_duplicates(subset='naics_code').sort_values(by=['current_total_value_of_award'], ascending= False)\n",
    "#result_df = result_df.head(30)\n",
    "#print(result_df)"
   ]
  },
  {
   "cell_type": "code",
   "execution_count": 12,
   "id": "f23e988b-66e5-44bb-a161-588ea653bacb",
   "metadata": {},
   "outputs": [
    {
     "name": "stdout",
     "output_type": "stream",
     "text": [
      "['women_owned_small_business', 'economically_disadvantaged_women_owned_small_business', 'joint_venture_women_owned_small_business', 'joint_venture_economic_disadvantaged_women_owned_small_bus']\n"
     ]
    }
   ],
   "source": [
    "# Get all column names\n",
    "column_names = df.columns\n",
    "\n",
    "# Filter column names containing \"women\"\n",
    "women_column_names = [col for col in column_names if 'women' in col.lower()]\n",
    "\n",
    "# Print the filtered column names\n",
    "print(women_column_names)"
   ]
  },
  {
   "cell_type": "code",
   "execution_count": 14,
   "id": "8dfff896",
   "metadata": {},
   "outputs": [
    {
     "ename": "ModuleNotFoundError",
     "evalue": "No module named 'seaborn'",
     "output_type": "error",
     "traceback": [
      "\u001b[1;31m---------------------------------------------------------------------------\u001b[0m",
      "\u001b[1;31mModuleNotFoundError\u001b[0m                       Traceback (most recent call last)",
      "Cell \u001b[1;32mIn[14], line 2\u001b[0m\n\u001b[0;32m      1\u001b[0m \u001b[38;5;28;01mimport\u001b[39;00m \u001b[38;5;21;01mpandas\u001b[39;00m \u001b[38;5;28;01mas\u001b[39;00m \u001b[38;5;21;01mpd\u001b[39;00m\n\u001b[1;32m----> 2\u001b[0m \u001b[38;5;28;01mimport\u001b[39;00m \u001b[38;5;21;01mseaborn\u001b[39;00m \u001b[38;5;28;01mas\u001b[39;00m \u001b[38;5;21;01msns\u001b[39;00m\n\u001b[0;32m      3\u001b[0m \u001b[38;5;28;01mimport\u001b[39;00m \u001b[38;5;21;01mmatplotlib\u001b[39;00m\u001b[38;5;21;01m.\u001b[39;00m\u001b[38;5;21;01mpyplot\u001b[39;00m \u001b[38;5;28;01mas\u001b[39;00m \u001b[38;5;21;01mplt\u001b[39;00m\n\u001b[0;32m      5\u001b[0m files \u001b[38;5;241m=\u001b[39m [\n\u001b[0;32m      6\u001b[0m     \u001b[38;5;124m'\u001b[39m\u001b[38;5;124mhttps://github.com/sambiner/LMU-Datathon-2024/blob/main/EPA\u001b[39m\u001b[38;5;124m%\u001b[39m\u001b[38;5;124m20Contract\u001b[39m\u001b[38;5;124m%\u001b[39m\u001b[38;5;124m20Data/FY2020_068_Contracts_Full_20240214_1.csv?raw=true\u001b[39m\u001b[38;5;124m'\u001b[39m,\n\u001b[0;32m      7\u001b[0m     \u001b[38;5;124m'\u001b[39m\u001b[38;5;124mhttps://github.com/sambiner/LMU-Datathon-2024/blob/main/EPA\u001b[39m\u001b[38;5;124m%\u001b[39m\u001b[38;5;124m20Contract\u001b[39m\u001b[38;5;124m%\u001b[39m\u001b[38;5;124m20Data/FY2021_068_Contracts_Full_20240214_1.csv?raw=true\u001b[39m\u001b[38;5;124m'\u001b[39m,\n\u001b[1;32m   (...)\u001b[0m\n\u001b[0;32m     10\u001b[0m     \u001b[38;5;124m'\u001b[39m\u001b[38;5;124mhttps://github.com/sambiner/LMU-Datathon-2024/blob/main/EPA\u001b[39m\u001b[38;5;124m%\u001b[39m\u001b[38;5;124m20Contract\u001b[39m\u001b[38;5;124m%\u001b[39m\u001b[38;5;124m20Data/FY2024_068_Contracts_Full_20240214_1.csv?raw=true\u001b[39m\u001b[38;5;124m'\u001b[39m\n\u001b[0;32m     11\u001b[0m ]\n",
      "\u001b[1;31mModuleNotFoundError\u001b[0m: No module named 'seaborn'"
     ]
    }
   ],
   "source": [
    "import pandas as pd\n",
    "import seaborn as sns\n",
    "import matplotlib.pyplot as plt\n",
    "\n",
    "files = [\n",
    "    'https://github.com/sambiner/LMU-Datathon-2024/blob/main/EPA%20Contract%20Data/FY2020_068_Contracts_Full_20240214_1.csv?raw=true',\n",
    "    'https://github.com/sambiner/LMU-Datathon-2024/blob/main/EPA%20Contract%20Data/FY2021_068_Contracts_Full_20240214_1.csv?raw=true',\n",
    "    'https://github.com/sambiner/LMU-Datathon-2024/blob/main/EPA%20Contract%20Data/FY2022_068_Contracts_Full_20240214_1.csv?raw=true',\n",
    "    'https://github.com/sambiner/LMU-Datathon-2024/blob/main/EPA%20Contract%20Data/FY2023_068_Contracts_Full_20240214_1.csv?raw=true',\n",
    "    'https://github.com/sambiner/LMU-Datathon-2024/blob/main/EPA%20Contract%20Data/FY2024_068_Contracts_Full_20240214_1.csv?raw=true'\n",
    "]\n",
    "\n",
    "# Load and concatenate the DataFrame\n",
    "df_list = [pd.read_csv(file, low_memory=False) for file in files]\n",
    "df = pd.concat(df_list, ignore_index=True)\n",
    "\n",
    "# Filter for the years 2020-2024\n",
    "df['action_date_fiscal_year'] = pd.to_numeric(df['action_date_fiscal_year'], errors='coerce')  # Ensure year is numeric\n",
    "df = df[df['action_date_fiscal_year'].between(2020, 2024)]\n",
    "\n",
    "# Visualization example: Distribution of number of offers received by competition level\n",
    "plt.figure(figsize=(12, 6))\n",
    "sns.boxplot(data=df, x='solicitation_procedures', y='number_of_offers_received')\n",
    "plt.title('Distribution of Number of Offers by Competition Level (2020-2024)')\n",
    "plt.xlabel('Competition Level')\n",
    "plt.ylabel('Number of Offers Received')\n",
    "plt.show()\n"
   ]
  }
 ],
 "metadata": {
  "kernelspec": {
   "display_name": "Python 3 (ipykernel)",
   "language": "python",
   "name": "python3"
  },
  "language_info": {
   "codemirror_mode": {
    "name": "ipython",
    "version": 3
   },
   "file_extension": ".py",
   "mimetype": "text/x-python",
   "name": "python",
   "nbconvert_exporter": "python",
   "pygments_lexer": "ipython3",
   "version": "3.11.5"
  }
 },
 "nbformat": 4,
 "nbformat_minor": 5
}
